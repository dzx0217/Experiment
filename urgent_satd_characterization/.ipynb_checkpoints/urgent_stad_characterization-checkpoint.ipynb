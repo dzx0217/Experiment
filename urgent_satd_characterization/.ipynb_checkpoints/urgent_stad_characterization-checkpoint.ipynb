{
 "cells": [
  {
   "metadata": {},
   "cell_type": "markdown",
   "source": "# urgent satd characterization process",
   "id": "8670047ff945d265"
  },
  {
   "metadata": {},
   "cell_type": "markdown",
   "source": "## 1.按照紧急与非紧急的survival time分别随机取出50条数据",
   "id": "ccc2755c30330972"
  },
  {
   "metadata": {
    "ExecuteTime": {
     "end_time": "2024-10-07T11:17:55.265491Z",
     "start_time": "2024-10-07T11:17:54.385974Z"
    }
   },
   "cell_type": "code",
   "source": [
    "import pandas as pd\n",
    "\n",
    "# 读取csv文件\n",
    "df = pd.read_csv('output_file_gai.csv') # 修改csv文件路径  \n",
    "\n",
    "# 筛选survival_time为0和1的数据\n",
    "df_0 = df[df['survive_time'] == 0]\n",
    "df_1 = df[df['survive_time'] == 1]\n",
    "\n",
    "# 分别随机抽取50条样本\n",
    "sample_0 = df_0.sample(n=50, random_state=42)  # random_state确保可重复性\n",
    "sample_1 = df_1.sample(n=50, random_state=42)\n",
    "\n",
    "# 将抽取的样本保存到新的csv文件\n",
    "sample_0.to_csv('sample_0.csv', index=False)\n",
    "sample_1.to_csv('sample_1.csv', index=False)"
   ],
   "id": "1e4ca70de0c2b26f",
   "outputs": [],
   "execution_count": 1
  },
  {
   "metadata": {},
   "cell_type": "markdown",
   "source": [
    "## 2.提取特征\n",
    "- Churn Workload：改动的代码量，函数超过50%，则认为是不太容易修改的，未超过50%，则认为是容易修改的\n",
    "- Commit Goal: SATD注释是否清晰，目标明确\n",
    "- Working on release: 离上一次发布的版本的时间\n",
    "- Project Startup: 离项目刚开始的时间\n",
    "- Commit workload: 提交次数，代表开发人员做出的不同贡献的数量\n",
    "- Tenure：作者关于这个项目的经验"
   ],
   "id": "331378f779aee127"
  },
  {
   "metadata": {},
   "cell_type": "markdown",
   "source": "### Churn Workload",
   "id": "12a78841e32e173c"
  },
  {
   "metadata": {},
   "cell_type": "code",
   "source": "",
   "id": "e1b0644effaedab5",
   "outputs": [],
   "execution_count": null
  }
 ],
 "metadata": {
  "kernelspec": {
   "display_name": "Python 3",
   "language": "python",
   "name": "python3"
  },
  "language_info": {
   "codemirror_mode": {
    "name": "ipython",
    "version": 3
   },
   "file_extension": ".py",
   "mimetype": "text/x-python",
   "name": "python",
   "nbconvert_exporter": "python",
   "pygments_lexer": "ipython3",
   "version": "3.8.10"
  }
 },
 "nbformat": 4,
 "nbformat_minor": 5
}
